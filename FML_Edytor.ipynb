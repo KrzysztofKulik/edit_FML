{
  "nbformat": 4,
  "nbformat_minor": 0,
  "metadata": {
    "colab": {
      "name": "FML_Edytor.ipynb",
      "provenance": [],
      "include_colab_link": true
    },
    "kernelspec": {
      "name": "python3",
      "display_name": "Python 3"
    },
    "language_info": {
      "name": "python"
    }
  },
  "cells": [
    {
      "cell_type": "markdown",
      "metadata": {
        "id": "view-in-github",
        "colab_type": "text"
      },
      "source": [
        "<a href=\"https://colab.research.google.com/github/KrzysztofKulik/edit_FML/blob/fml/FML_Edytor.ipynb\" target=\"_parent\"><img src=\"https://colab.research.google.com/assets/colab-badge.svg\" alt=\"Open In Colab\"/></a>"
      ]
    },
    {
      "cell_type": "markdown",
      "metadata": {
        "id": "nZCGT9c0n7lF"
      },
      "source": [
        "Wczytywanie pliku FML z FP:\n",
        "\n"
      ]
    },
    {
      "cell_type": "code",
      "metadata": {
        "id": "u68qW1Ln9Css",
        "colab": {
          "base_uri": "https://localhost:8080/"
        },
        "outputId": "7d71d5d7-df56-4a75-efac-ba0af4af1542"
      },
      "source": [
        "#......................................................................\n",
        "#Pobieranie pliku i zczytywanie danych: Nazwa piętra , numeracja piętra\n",
        "#......................................................................\n",
        "\n",
        "# biblioteki\n",
        "import urllib.request \n",
        "import xml.etree.ElementTree as et\n",
        "from google.colab import files #do pobierania plików \n",
        "import requests\n",
        "Konto_FP = \"OC\" #@param [\"INFO\", \"OC\"]\n",
        "key = \"x\"\n",
        "if (Konto_FP==\"INFO\"):\n",
        "   username=\"6d97c0b95448e13b01456e8ed8b2f938db2bb25c\"\n",
        "elif (Konto_FP==\"OC\"):\n",
        "   username=\"2a8d26c93e28773eb61267a4a67875886f44d4e1\"\n",
        "\n",
        "url = \"http://floorplanner.com/api/v2/projects/105711549.fml\" #@param {type:\"string\"}\n",
        "#pobierane pliku z url\n",
        "r = requests.get(url, auth=(username,key))\n",
        "print (r.status_code)\n",
        "print('')\n",
        "urllib.request.urlretrieve(url, \"szablon.fml\")\n",
        "#Tworzenie drzewa i wyświetlanie pięter\n",
        "drzewo=et.parse(\"szablon.fml\")\n",
        "root=drzewo.getroot()\n",
        "\n",
        "podloga=root.find('floors')\n",
        "print('NAZWA PROJEKTU : '+root.find('name').text)\n",
        "print('')\n",
        "for e in podloga.findall('floor'): \n",
        "    e1=e.find('name') \n",
        "    e2=e.find('level')\n",
        "    print(e1.text)\n",
        "    print('numer piętra '+e2.text)\n",
        "    print('')\n",
        "    #zapis do pliku\n",
        "drzewo.write(\"szablon.fml\",encoding=\"utf-8\")\n"
      ],
      "execution_count": null,
      "outputs": [
        {
          "output_type": "stream",
          "name": "stdout",
          "text": [
            "200\n",
            "\n",
            "NAZWA PROJEKTU : KK_TEST\n",
            "\n",
            "Berging 1\n",
            "numer piętra 1\n",
            "\n",
            "Nowa nazwa \n",
            "numer piętra 2\n",
            "\n",
            "Berging 1\n",
            "numer piętra 3\n",
            "\n",
            "Vierde Verdieping\n",
            "numer piętra 4\n",
            "\n",
            "Vierde Verdieping\n",
            "numer piętra 6\n",
            "\n"
          ]
        }
      ]
    },
    {
      "cell_type": "markdown",
      "metadata": {
        "id": "yAtB44knnszr"
      },
      "source": [
        "Moduł kopiowania piętra. NU_p - numer piętra do skopiowania\n"
      ]
    },
    {
      "cell_type": "code",
      "metadata": {
        "id": "USZXhoy3gSlg"
      },
      "source": [
        "# Dodawanie piętra\n",
        "NU_p = 0 #@param {type:\"number\"}\n",
        "e3=podloga[NU_p]\n",
        "podloga.append(e3)\n",
        "ss=e3.find('name')\n",
        "#zapis FML\n",
        "drzewo.write(\"szablon.fml\",encoding=\"utf-8\")\n",
        "#czyszczenie zasobów\n",
        "e3.clear()"
      ],
      "execution_count": null,
      "outputs": []
    },
    {
      "cell_type": "markdown",
      "metadata": {
        "id": "U4KrpqMtm4j_"
      },
      "source": [
        "Zmiana nazwy piętra , NuP - numer piętra do zmiany\n",
        "\n"
      ]
    },
    {
      "cell_type": "code",
      "metadata": {
        "id": "4Re8VnWTL_bK"
      },
      "source": [
        "NuP = 0 #@param {type:\"number\"}\n",
        "Nowa_nazwa = \"Begane Grond\" #@param {type:\"string\"}\n",
        "# zmian nazwy piętra\n",
        "\n",
        "drzewo=et.parse('szablon.fml')\n",
        "root=drzewo.getroot()\n",
        "podloga=root.find('floors')\n",
        "podloga[NuP][2].text=Nowa_nazwa\n",
        "#zapis FML\n",
        "drzewo.write(\"szablon.fml\",encoding=\"utf-8\")"
      ],
      "execution_count": null,
      "outputs": []
    },
    {
      "cell_type": "markdown",
      "metadata": {
        "id": "FTBvA5jfoKrT"
      },
      "source": [
        "Moduł wyświetlający FML po zmianach:\n",
        "\n"
      ]
    },
    {
      "cell_type": "code",
      "metadata": {
        "id": "dJpwAZd2JGaE",
        "colab": {
          "base_uri": "https://localhost:8080/"
        },
        "cellView": "form",
        "outputId": "405f0243-7133-4998-89c0-7a52ebf70188"
      },
      "source": [
        "#@title\n",
        "#Wyświetlanie zawartyości nowego FML\n",
        "drzewo=et.parse('szablon.fml')\n",
        "root=drzewo.getroot()\n",
        "podloga=root.find('floors')\n",
        "zz=0\n",
        "for e in podloga.findall('floor'): \n",
        "    e1=e.find('name') \n",
        "    e2=e.find('level')\n",
        "    kk=(podloga.findall('floor')[zz])\n",
        "    kk.find('level').text=str(zz)\n",
        "    zz+=1\n",
        "    print(e1.text)\n",
        "    print('numer piętra '+e2.text)\n",
        "    print('')\n",
        "    #Zapis piętra\n",
        "    drzewo.write(\"szablon.fml\",encoding=\"utf-8\")\n"
      ],
      "execution_count": null,
      "outputs": [
        {
          "output_type": "stream",
          "name": "stdout",
          "text": [
            "Berging 1\n",
            "numer piętra 0\n",
            "\n",
            "Nowa nazwa \n",
            "numer piętra 1\n",
            "\n",
            "Berging 1\n",
            "numer piętra 2\n",
            "\n",
            "Vierde Verdieping\n",
            "numer piętra 3\n",
            "\n",
            "Vierde Verdieping\n",
            "numer piętra 4\n",
            "\n"
          ]
        }
      ]
    },
    {
      "cell_type": "markdown",
      "metadata": {
        "id": "5OS_bSORqv1P"
      },
      "source": [
        "Pobierz plik"
      ]
    },
    {
      "cell_type": "code",
      "metadata": {
        "colab": {
          "base_uri": "https://localhost:8080/",
          "height": 17
        },
        "id": "-mBQ8AWppfeC",
        "cellView": "form",
        "outputId": "9c996e66-3cdf-4e5f-aa0a-50b56ea926a9"
      },
      "source": [
        "#@title\n",
        "\n",
        "files.download(\"szablon.fml\")"
      ],
      "execution_count": null,
      "outputs": [
        {
          "output_type": "display_data",
          "data": {
            "application/javascript": [
              "\n",
              "    async function download(id, filename, size) {\n",
              "      if (!google.colab.kernel.accessAllowed) {\n",
              "        return;\n",
              "      }\n",
              "      const div = document.createElement('div');\n",
              "      const label = document.createElement('label');\n",
              "      label.textContent = `Downloading \"${filename}\": `;\n",
              "      div.appendChild(label);\n",
              "      const progress = document.createElement('progress');\n",
              "      progress.max = size;\n",
              "      div.appendChild(progress);\n",
              "      document.body.appendChild(div);\n",
              "\n",
              "      const buffers = [];\n",
              "      let downloaded = 0;\n",
              "\n",
              "      const channel = await google.colab.kernel.comms.open(id);\n",
              "      // Send a message to notify the kernel that we're ready.\n",
              "      channel.send({})\n",
              "\n",
              "      for await (const message of channel.messages) {\n",
              "        // Send a message to notify the kernel that we're ready.\n",
              "        channel.send({})\n",
              "        if (message.buffers) {\n",
              "          for (const buffer of message.buffers) {\n",
              "            buffers.push(buffer);\n",
              "            downloaded += buffer.byteLength;\n",
              "            progress.value = downloaded;\n",
              "          }\n",
              "        }\n",
              "      }\n",
              "      const blob = new Blob(buffers, {type: 'application/binary'});\n",
              "      const a = document.createElement('a');\n",
              "      a.href = window.URL.createObjectURL(blob);\n",
              "      a.download = filename;\n",
              "      div.appendChild(a);\n",
              "      a.click();\n",
              "      div.remove();\n",
              "    }\n",
              "  "
            ],
            "text/plain": [
              "<IPython.core.display.Javascript object>"
            ]
          },
          "metadata": {}
        },
        {
          "output_type": "display_data",
          "data": {
            "application/javascript": [
              "download(\"download_53d1f445-accc-4dd0-8769-2dab7f0b546f\", \"szablon.fml\", 129349)"
            ],
            "text/plain": [
              "<IPython.core.display.Javascript object>"
            ]
          },
          "metadata": {}
        }
      ]
    },
    {
      "cell_type": "markdown",
      "metadata": {
        "id": "esvVfG6NS2o8"
      },
      "source": [
        "Wysyłanie pliku FML do FP\n"
      ]
    },
    {
      "cell_type": "code",
      "metadata": {
        "colab": {
          "base_uri": "https://localhost:8080/"
        },
        "id": "99sI0q2Ytyiv",
        "outputId": "9f5ec836-c531-46e3-a338-a7a599171fa0"
      },
      "source": [
        "#@title\n",
        "#plik = None\n",
        "xml=et.tostring(root)\n",
        "r = requests.post(url,auth=(username,key),headers={\"Content-Type\": \"application/xml\"},data=xml)\n",
        "print (r.status_code)"
      ],
      "execution_count": null,
      "outputs": [
        {
          "output_type": "stream",
          "name": "stdout",
          "text": [
            "200\n"
          ]
        }
      ]
    },
    {
      "cell_type": "markdown",
      "metadata": {
        "id": "bh5ZhF0NVYwc"
      },
      "source": [
        "# W trakcie ...\n",
        "działa pod główne konto klienta np. info@mediatask.pl , ale jeszcze nie tworzy na subkontach np. woningmedia@mediatask.pl"
      ]
    },
    {
      "cell_type": "markdown",
      "metadata": {
        "id": "SrIS0b_NfNF_"
      },
      "source": [
        "Tworzenie NOWEGO PUSTEGO PROJEKTU na FP "
      ]
    },
    {
      "cell_type": "code",
      "metadata": {
        "id": "H2DpS84GWnJ_",
        "cellView": "form"
      },
      "source": [
        "\n",
        "import requests\n",
        "\n",
        "Nazwa_projektu = \"\" #@param {type:\"string\"}\n",
        "url = \"https://floorplanner.com/api/v2/projects.json\"\n",
        "\n",
        "\n",
        "payload = {\n",
        "\n",
        "    \"name\": Nazwa_projektu,\n",
        "    \"public\": False\n",
        "    \n",
        "}\n",
        "\n",
        "headers = {\n",
        "\n",
        "    \"Accept\": \"application/json\",\n",
        "    \"Content-Type\": \"application/json\"\n",
        "}\n",
        "\n",
        "response = requests.request(\"POST\", url,auth=(username,key), json=payload, headers=headers)\n",
        "print(response.text)\n",
        "print (r.status_code)"
      ],
      "execution_count": null,
      "outputs": []
    },
    {
      "cell_type": "code",
      "metadata": {
        "colab": {
          "base_uri": "https://localhost:8080/"
        },
        "cellView": "form",
        "id": "IiunP72T-UF5",
        "outputId": "fceb1391-6bbd-49b2-dea0-5da1e69a069f"
      },
      "source": [
        "#@title\n",
        "import requests\n",
        "\n",
        "url = \"https://floorplanner.com/api/v2/projects/109341300.json\"\n",
        "payload = {\"sub_user\":\"woningvisual@mediatask.pl\"}\n",
        "headers = {\n",
        "    \"Accept\": \"application/json\",\n",
        "    \"Content-Type\": \"application/json\"\n",
        "}\n",
        "\n",
        "response = requests.request(\"POST\", url,auth=(username,key),json=payload, headers=headers)\n",
        "\n",
        "print(response.text)"
      ],
      "execution_count": null,
      "outputs": [
        {
          "output_type": "stream",
          "name": "stdout",
          "text": [
            "{\"status\":400,\"error\":\"Bad Request\"}\n"
          ]
        }
      ]
    },
    {
      "cell_type": "code",
      "metadata": {
        "colab": {
          "base_uri": "https://localhost:8080/"
        },
        "cellView": "form",
        "id": "w2jwATWRA0bI",
        "outputId": "921ddb4c-a25b-441a-d5a5-2ce63e4b9d6b"
      },
      "source": [
        "#@title\n",
        "import requests\n",
        "\n",
        "url = \"https://floorplanner.com/api/v2/users.json\"\n",
        "\n",
        "headers = {\"Accept\": \"application/json\"}\n",
        "\n",
        "response = requests.request(\"GET\", url,auth=(username,key), headers=headers)\n",
        "\n",
        "print(response.text)"
      ],
      "execution_count": null,
      "outputs": [
        {
          "output_type": "stream",
          "name": "stdout",
          "text": [
            "[{\"id\":65948526,\"parent_id\":20821628,\"measurement_system\":null,\"email\":\"standardy@mediatask.pl\",\"created_at\":\"2021-06-11T07:39:52.000Z\",\"updated_at\":\"2021-09-23T19:36:43.000Z\",\"language\":null,\"creator_id\":null,\"currency\":null,\"external_identifier\":null,\"membership_name\":\"subuser\",\"profile\":{\"id\":17899452,\"user_id\":65948526,\"username\":\"Standardy FP\",\"avatar\":{\"url\":null},\"firstname\":\"\",\"lastname\":\"\",\"gender\":\"other\",\"zipcode\":\"\",\"city\":\"\",\"language\":\"en-US\",\"measurements\":\"metric\",\"address\":\"\",\"address2\":null,\"building\":\"\",\"country_code\":\"PL\",\"phonenumber\":\"\",\"phone_country\":\"\",\"birthdate\":\"\",\"website\":null,\"currency\":\"USD\",\"newsletter\":true},\"company\":{\"id\":40795,\"user_id\":20821628,\"name\":\"Mediatask sp. z o.o. sp. k.\",\"logo\":{\"url\":null},\"vat_number\":\"PL1132901255\",\"currency\":\"EUR\",\"address\":\"plac gen. Józefa Hallera nr 5\",\"address2\":null,\"building\":\" lok. 14a\",\"city\":\"Warszawa\",\"zipcode\":\"03-464\",\"country_code\":\"PL\",\"phonenumber\":\"\",\"phone_country\":null,\"faxnumber\":null,\"company_size\":\"0\",\"billing_email\":\"biuro@mediatask.pl\",\"created_at\":\"2013-08-26T08:40:28.000Z\",\"updated_at\":\"2021-02-02T11:27:39.000Z\",\"verified_vat_at\":\"2019-02-01\"},\"credits\":-2020,\"avatar\":null,\"features\":[],\"membership\":{\"id\":22194,\"name\":\"partner\",\"state\":\"active\",\"end_at\":\"2021-10-13T00:05:56.000Z\",\"project_level_id\":2,\"max_subusers\":0,\"membership_template_id\":12,\"vault_subscription_id\":20259,\"user_id\":20821628,\"recurring_period_in_months\":1,\"created_at\":\"2016-05-11T20:13:28.000Z\",\"updated_at\":\"2021-09-13T00:05:56.000Z\",\"pricing\":{\"subscription\":{\"1\":{\"EUR\":9900,\"USD\":11900},\"12\":{\"EUR\":118800,\"USD\":142800}},\"credit\":{\"EUR\":50,\"USD\":60}},\"recurring_credits\":{\"1\":200,\"12\":2400},\"bundle_id\":null}},{\"id\":65123943,\"parent_id\":20821628,\"measurement_system\":null,\"email\":\"cloudbooking@mediatask.pl\",\"created_at\":\"2021-04-30T09:39:26.000Z\",\"updated_at\":\"2021-06-29T09:25:04.000Z\",\"language\":null,\"creator_id\":null,\"currency\":null,\"external_identifier\":null,\"membership_name\":\"subuser\",\"profile\":{\"id\":16633110,\"user_id\":65123943,\"username\":\"\",\"avatar\":{\"url\":null},\"firstname\":\"\",\"lastname\":\"\",\"gender\":\"other\",\"zipcode\":\"\",\"city\":\"\",\"language\":\"\",\"measurements\":\"metric\",\"address\":\"\",\"address2\":null,\"building\":\"\",\"country_code\":\"\",\"phonenumber\":\"\",\"phone_country\":\"\",\"birthdate\":\"\",\"website\":null,\"currency\":\"\",\"newsletter\":true},\"company\":{\"id\":40795,\"user_id\":20821628,\"name\":\"Mediatask sp. z o.o. sp. k.\",\"logo\":{\"url\":null},\"vat_number\":\"PL1132901255\",\"currency\":\"EUR\",\"address\":\"plac gen. Józefa Hallera nr 5\",\"address2\":null,\"building\":\" lok. 14a\",\"city\":\"Warszawa\",\"zipcode\":\"03-464\",\"country_code\":\"PL\",\"phonenumber\":\"\",\"phone_country\":null,\"faxnumber\":null,\"company_size\":\"0\",\"billing_email\":\"biuro@mediatask.pl\",\"created_at\":\"2013-08-26T08:40:28.000Z\",\"updated_at\":\"2021-02-02T11:27:39.000Z\",\"verified_vat_at\":\"2019-02-01\"},\"credits\":-2020,\"avatar\":null,\"features\":[],\"membership\":{\"id\":22194,\"name\":\"partner\",\"state\":\"active\",\"end_at\":\"2021-10-13T00:05:56.000Z\",\"project_level_id\":2,\"max_subusers\":0,\"membership_template_id\":12,\"vault_subscription_id\":20259,\"user_id\":20821628,\"recurring_period_in_months\":1,\"created_at\":\"2016-05-11T20:13:28.000Z\",\"updated_at\":\"2021-09-13T00:05:56.000Z\",\"pricing\":{\"subscription\":{\"1\":{\"EUR\":9900,\"USD\":11900},\"12\":{\"EUR\":118800,\"USD\":142800}},\"credit\":{\"EUR\":50,\"USD\":60}},\"recurring_credits\":{\"1\":200,\"12\":2400},\"bundle_id\":null}},{\"id\":61489833,\"parent_id\":20821628,\"measurement_system\":null,\"email\":\"jacek+test@mediatask.pl\",\"created_at\":\"2020-11-16T15:23:06.000Z\",\"updated_at\":\"2020-11-16T15:26:31.000Z\",\"language\":null,\"creator_id\":null,\"currency\":null,\"external_identifier\":null,\"membership_name\":\"subuser\",\"profile\":{\"id\":12741402,\"user_id\":61489833,\"username\":\"Jacek\",\"avatar\":{\"url\":\"https://fpcdn.floorplanner.com/uploads/avatars/12741402/1605540215135.svg\"},\"firstname\":\"\",\"lastname\":\"\",\"gender\":\"other\",\"zipcode\":\"\",\"city\":\"\",\"language\":\"en-US\",\"measurements\":\"metric\",\"address\":\"\",\"address2\":null,\"building\":\"\",\"country_code\":\"PL\",\"phonenumber\":\"\",\"phone_country\":\"\",\"birthdate\":\"\",\"website\":null,\"currency\":\"EUR\",\"newsletter\":true},\"company\":{\"id\":40795,\"user_id\":20821628,\"name\":\"Mediatask sp. z o.o. sp. k.\",\"logo\":{\"url\":null},\"vat_number\":\"PL1132901255\",\"currency\":\"EUR\",\"address\":\"plac gen. Józefa Hallera nr 5\",\"address2\":null,\"building\":\" lok. 14a\",\"city\":\"Warszawa\",\"zipcode\":\"03-464\",\"country_code\":\"PL\",\"phonenumber\":\"\",\"phone_country\":null,\"faxnumber\":null,\"company_size\":\"0\",\"billing_email\":\"biuro@mediatask.pl\",\"created_at\":\"2013-08-26T08:40:28.000Z\",\"updated_at\":\"2021-02-02T11:27:39.000Z\",\"verified_vat_at\":\"2019-02-01\"},\"credits\":-2020,\"avatar\":\"https://fpcdn.floorplanner.com/uploads/avatars/12741402/1605540215135.svg\",\"features\":[],\"membership\":{\"id\":22194,\"name\":\"partner\",\"state\":\"active\",\"end_at\":\"2021-10-13T00:05:56.000Z\",\"project_level_id\":2,\"max_subusers\":0,\"membership_template_id\":12,\"vault_subscription_id\":20259,\"user_id\":20821628,\"recurring_period_in_months\":1,\"created_at\":\"2016-05-11T20:13:28.000Z\",\"updated_at\":\"2021-09-13T00:05:56.000Z\",\"pricing\":{\"subscription\":{\"1\":{\"EUR\":9900,\"USD\":11900},\"12\":{\"EUR\":118800,\"USD\":142800}},\"credit\":{\"EUR\":50,\"USD\":60}},\"recurring_credits\":{\"1\":200,\"12\":2400},\"bundle_id\":null}},{\"id\":60927915,\"parent_id\":20821628,\"measurement_system\":null,\"email\":\"fptesty@mediatask.pl\",\"created_at\":\"2020-10-23T11:17:29.000Z\",\"updated_at\":\"2021-10-04T20:26:09.000Z\",\"language\":null,\"creator_id\":null,\"currency\":null,\"external_identifier\":null,\"membership_name\":\"subuser\",\"profile\":{\"id\":12138255,\"user_id\":60927915,\"username\":\"Konto testowe\",\"avatar\":{\"url\":\"https://fpcdn.floorplanner.com/uploads/avatars/12138255/LogoKontoTestowe.jpg\"},\"firstname\":\"\",\"lastname\":\"\",\"gender\":\"other\",\"zipcode\":\"\",\"city\":\"\",\"language\":\"en-US\",\"measurements\":\"metric\",\"address\":\"\",\"address2\":null,\"building\":\"\",\"country_code\":\"PL\",\"phonenumber\":\"\",\"phone_country\":\"\",\"birthdate\":\"\",\"website\":null,\"currency\":\"EUR\",\"newsletter\":true},\"company\":{\"id\":40795,\"user_id\":20821628,\"name\":\"Mediatask sp. z o.o. sp. k.\",\"logo\":{\"url\":null},\"vat_number\":\"PL1132901255\",\"currency\":\"EUR\",\"address\":\"plac gen. Józefa Hallera nr 5\",\"address2\":null,\"building\":\" lok. 14a\",\"city\":\"Warszawa\",\"zipcode\":\"03-464\",\"country_code\":\"PL\",\"phonenumber\":\"\",\"phone_country\":null,\"faxnumber\":null,\"company_size\":\"0\",\"billing_email\":\"biuro@mediatask.pl\",\"created_at\":\"2013-08-26T08:40:28.000Z\",\"updated_at\":\"2021-02-02T11:27:39.000Z\",\"verified_vat_at\":\"2019-02-01\"},\"credits\":-2020,\"avatar\":\"https://fpcdn.floorplanner.com/uploads/avatars/12138255/LogoKontoTestowe.jpg\",\"features\":[],\"membership\":{\"id\":22194,\"name\":\"partner\",\"state\":\"active\",\"end_at\":\"2021-10-13T00:05:56.000Z\",\"project_level_id\":2,\"max_subusers\":0,\"membership_template_id\":12,\"vault_subscription_id\":20259,\"user_id\":20821628,\"recurring_period_in_months\":1,\"created_at\":\"2016-05-11T20:13:28.000Z\",\"updated_at\":\"2021-09-13T00:05:56.000Z\",\"pricing\":{\"subscription\":{\"1\":{\"EUR\":9900,\"USD\":11900},\"12\":{\"EUR\":118800,\"USD\":142800}},\"credit\":{\"EUR\":50,\"USD\":60}},\"recurring_credits\":{\"1\":200,\"12\":2400},\"bundle_id\":null}},{\"id\":60231468,\"parent_id\":20821628,\"measurement_system\":null,\"email\":\"radoslaw.rusek@mediatask.pl\",\"created_at\":\"2020-09-22T11:12:14.000Z\",\"updated_at\":\"2020-11-10T11:00:45.000Z\",\"language\":null,\"creator_id\":null,\"currency\":null,\"external_identifier\":null,\"membership_name\":\"subuser\",\"profile\":{\"id\":11387400,\"user_id\":60231468,\"username\":\"AutoNEN\",\"avatar\":{\"url\":null},\"firstname\":\"\",\"lastname\":\"\",\"gender\":\"other\",\"zipcode\":\"\",\"city\":\"\",\"language\":\"\",\"measurements\":\"metric\",\"address\":\"\",\"address2\":null,\"building\":\"\",\"country_code\":\"\",\"phonenumber\":\"\",\"phone_country\":\"\",\"birthdate\":\"\",\"website\":null,\"currency\":\"EUR\",\"newsletter\":true},\"company\":{\"id\":40795,\"user_id\":20821628,\"name\":\"Mediatask sp. z o.o. sp. k.\",\"logo\":{\"url\":null},\"vat_number\":\"PL1132901255\",\"currency\":\"EUR\",\"address\":\"plac gen. Józefa Hallera nr 5\",\"address2\":null,\"building\":\" lok. 14a\",\"city\":\"Warszawa\",\"zipcode\":\"03-464\",\"country_code\":\"PL\",\"phonenumber\":\"\",\"phone_country\":null,\"faxnumber\":null,\"company_size\":\"0\",\"billing_email\":\"biuro@mediatask.pl\",\"created_at\":\"2013-08-26T08:40:28.000Z\",\"updated_at\":\"2021-02-02T11:27:39.000Z\",\"verified_vat_at\":\"2019-02-01\"},\"credits\":-2020,\"avatar\":null,\"features\":[],\"membership\":{\"id\":22194,\"name\":\"partner\",\"state\":\"active\",\"end_at\":\"2021-10-13T00:05:56.000Z\",\"project_level_id\":2,\"max_subusers\":0,\"membership_template_id\":12,\"vault_subscription_id\":20259,\"user_id\":20821628,\"recurring_period_in_months\":1,\"created_at\":\"2016-05-11T20:13:28.000Z\",\"updated_at\":\"2021-09-13T00:05:56.000Z\",\"pricing\":{\"subscription\":{\"1\":{\"EUR\":9900,\"USD\":11900},\"12\":{\"EUR\":118800,\"USD\":142800}},\"credit\":{\"EUR\":50,\"USD\":60}},\"recurring_credits\":{\"1\":200,\"12\":2400},\"bundle_id\":null}},{\"id\":60231051,\"parent_id\":20821628,\"measurement_system\":null,\"email\":\"kinga@mediatask.pl\",\"created_at\":\"2020-09-22T10:43:41.000Z\",\"updated_at\":\"2020-09-22T10:48:54.000Z\",\"language\":null,\"creator_id\":null,\"currency\":null,\"external_identifier\":null,\"membership_name\":\"subuser\",\"profile\":{\"id\":11386953,\"user_id\":60231051,\"username\":\"Kinga\",\"avatar\":{\"url\":null},\"firstname\":\"\",\"lastname\":\"\",\"gender\":\"other\",\"zipcode\":\"\",\"city\":\"\",\"language\":\"en-US\",\"measurements\":\"metric\",\"address\":\"\",\"address2\":null,\"building\":\"\",\"country_code\":\"\",\"phonenumber\":\"\",\"phone_country\":\"\",\"birthdate\":\"\",\"website\":null,\"currency\":\"EUR\",\"newsletter\":true},\"company\":{\"id\":40795,\"user_id\":20821628,\"name\":\"Mediatask sp. z o.o. sp. k.\",\"logo\":{\"url\":null},\"vat_number\":\"PL1132901255\",\"currency\":\"EUR\",\"address\":\"plac gen. Józefa Hallera nr 5\",\"address2\":null,\"building\":\" lok. 14a\",\"city\":\"Warszawa\",\"zipcode\":\"03-464\",\"country_code\":\"PL\",\"phonenumber\":\"\",\"phone_country\":null,\"faxnumber\":null,\"company_size\":\"0\",\"billing_email\":\"biuro@mediatask.pl\",\"created_at\":\"2013-08-26T08:40:28.000Z\",\"updated_at\":\"2021-02-02T11:27:39.000Z\",\"verified_vat_at\":\"2019-02-01\"},\"credits\":-2020,\"avatar\":null,\"features\":[],\"membership\":{\"id\":22194,\"name\":\"partner\",\"state\":\"active\",\"end_at\":\"2021-10-13T00:05:56.000Z\",\"project_level_id\":2,\"max_subusers\":0,\"membership_template_id\":12,\"vault_subscription_id\":20259,\"user_id\":20821628,\"recurring_period_in_months\":1,\"created_at\":\"2016-05-11T20:13:28.000Z\",\"updated_at\":\"2021-09-13T00:05:56.000Z\",\"pricing\":{\"subscription\":{\"1\":{\"EUR\":9900,\"USD\":11900},\"12\":{\"EUR\":118800,\"USD\":142800}},\"credit\":{\"EUR\":50,\"USD\":60}},\"recurring_credits\":{\"1\":200,\"12\":2400},\"bundle_id\":null}},{\"id\":58532052,\"parent_id\":20821628,\"measurement_system\":null,\"email\":\"d.karczewski@ideamotive.co\",\"created_at\":\"2020-06-29T13:03:18.000Z\",\"updated_at\":\"2020-09-24T14:59:50.000Z\",\"language\":null,\"creator_id\":null,\"currency\":null,\"external_identifier\":null,\"membership_name\":\"subuser\",\"profile\":{\"id\":9543678,\"user_id\":58532052,\"username\":\"IdeaMotive\",\"avatar\":{\"url\":null},\"firstname\":\"\",\"lastname\":\"\",\"gender\":\"other\",\"zipcode\":\"\",\"city\":\"\",\"language\":\"en-US\",\"measurements\":\"metric\",\"address\":\"\",\"address2\":null,\"building\":\"\",\"country_code\":\"PL\",\"phonenumber\":\"\",\"phone_country\":\"\",\"birthdate\":\"\",\"website\":null,\"currency\":\"EUR\",\"newsletter\":true},\"company\":{\"id\":40795,\"user_id\":20821628,\"name\":\"Mediatask sp. z o.o. sp. k.\",\"logo\":{\"url\":null},\"vat_number\":\"PL1132901255\",\"currency\":\"EUR\",\"address\":\"plac gen. Józefa Hallera nr 5\",\"address2\":null,\"building\":\" lok. 14a\",\"city\":\"Warszawa\",\"zipcode\":\"03-464\",\"country_code\":\"PL\",\"phonenumber\":\"\",\"phone_country\":null,\"faxnumber\":null,\"company_size\":\"0\",\"billing_email\":\"biuro@mediatask.pl\",\"created_at\":\"2013-08-26T08:40:28.000Z\",\"updated_at\":\"2021-02-02T11:27:39.000Z\",\"verified_vat_at\":\"2019-02-01\"},\"credits\":-2020,\"avatar\":null,\"features\":[],\"membership\":{\"id\":22194,\"name\":\"partner\",\"state\":\"active\",\"end_at\":\"2021-10-13T00:05:56.000Z\",\"project_level_id\":2,\"max_subusers\":0,\"membership_template_id\":12,\"vault_subscription_id\":20259,\"user_id\":20821628,\"recurring_period_in_months\":1,\"created_at\":\"2016-05-11T20:13:28.000Z\",\"updated_at\":\"2021-09-13T00:05:56.000Z\",\"pricing\":{\"subscription\":{\"1\":{\"EUR\":9900,\"USD\":11900},\"12\":{\"EUR\":118800,\"USD\":142800}},\"credit\":{\"EUR\":50,\"USD\":60}},\"recurring_credits\":{\"1\":200,\"12\":2400},\"bundle_id\":null}},{\"id\":55737396,\"parent_id\":20821628,\"measurement_system\":\"\",\"email\":\"zien24@mediatask.pl\",\"created_at\":\"2020-01-29T21:20:30.000Z\",\"updated_at\":\"2021-02-14T13:33:33.000Z\",\"language\":null,\"creator_id\":null,\"currency\":null,\"external_identifier\":null,\"membership_name\":\"subuser\",\"profile\":{\"id\":6428985,\"user_id\":55737396,\"username\":null,\"avatar\":{\"url\":null},\"firstname\":null,\"lastname\":null,\"gender\":null,\"zipcode\":null,\"city\":null,\"language\":\"en-US\",\"measurements\":null,\"address\":null,\"address2\":null,\"building\":null,\"country_code\":\"US\",\"phonenumber\":null,\"phone_country\":null,\"birthdate\":null,\"website\":null,\"currency\":\"USD\",\"newsletter\":null},\"company\":{\"id\":40795,\"user_id\":20821628,\"name\":\"Mediatask sp. z o.o. sp. k.\",\"logo\":{\"url\":null},\"vat_number\":\"PL1132901255\",\"currency\":\"EUR\",\"address\":\"plac gen. Józefa Hallera nr 5\",\"address2\":null,\"building\":\" lok. 14a\",\"city\":\"Warszawa\",\"zipcode\":\"03-464\",\"country_code\":\"PL\",\"phonenumber\":\"\",\"phone_country\":null,\"faxnumber\":null,\"company_size\":\"0\",\"billing_email\":\"biuro@mediatask.pl\",\"created_at\":\"2013-08-26T08:40:28.000Z\",\"updated_at\":\"2021-02-02T11:27:39.000Z\",\"verified_vat_at\":\"2019-02-01\"},\"credits\":-2020,\"avatar\":null,\"features\":[],\"membership\":{\"id\":22194,\"name\":\"partner\",\"state\":\"active\",\"end_at\":\"2021-10-13T00:05:56.000Z\",\"project_level_id\":2,\"max_subusers\":0,\"membership_template_id\":12,\"vault_subscription_id\":20259,\"user_id\":20821628,\"recurring_period_in_months\":1,\"created_at\":\"2016-05-11T20:13:28.000Z\",\"updated_at\":\"2021-09-13T00:05:56.000Z\",\"pricing\":{\"subscription\":{\"1\":{\"EUR\":9900,\"USD\":11900},\"12\":{\"EUR\":118800,\"USD\":142800}},\"credit\":{\"EUR\":50,\"USD\":60}},\"recurring_credits\":{\"1\":200,\"12\":2400},\"bundle_id\":null}},{\"id\":55320498,\"parent_id\":20821628,\"measurement_system\":\"\",\"email\":\"cs@mediatask.pl\",\"created_at\":\"2020-01-03T12:39:57.000Z\",\"updated_at\":\"2021-10-05T18:38:14.000Z\",\"language\":null,\"creator_id\":null,\"currency\":null,\"external_identifier\":null,\"membership_name\":\"subuser\",\"profile\":{\"id\":5956731,\"user_id\":55320498,\"username\":\"\",\"avatar\":{\"url\":null},\"firstname\":\"\",\"lastname\":\"\",\"gender\":\"other\",\"zipcode\":\"\",\"city\":\"\",\"language\":\"en-US\",\"measurements\":\"metric\",\"address\":\"\",\"address2\":null,\"building\":\"\",\"country_code\":\"US\",\"phonenumber\":\"\",\"phone_country\":\"\",\"birthdate\":\"\",\"website\":null,\"currency\":\"USD\",\"newsletter\":true},\"company\":{\"id\":40795,\"user_id\":20821628,\"name\":\"Mediatask sp. z o.o. sp. k.\",\"logo\":{\"url\":null},\"vat_number\":\"PL1132901255\",\"currency\":\"EUR\",\"address\":\"plac gen. Józefa Hallera nr 5\",\"address2\":null,\"building\":\" lok. 14a\",\"city\":\"Warszawa\",\"zipcode\":\"03-464\",\"country_code\":\"PL\",\"phonenumber\":\"\",\"phone_country\":null,\"faxnumber\":null,\"company_size\":\"0\",\"billing_email\":\"biuro@mediatask.pl\",\"created_at\":\"2013-08-26T08:40:28.000Z\",\"updated_at\":\"2021-02-02T11:27:39.000Z\",\"verified_vat_at\":\"2019-02-01\"},\"credits\":-2020,\"avatar\":null,\"features\":[],\"membership\":{\"id\":22194,\"name\":\"partner\",\"state\":\"active\",\"end_at\":\"2021-10-13T00:05:56.000Z\",\"project_level_id\":2,\"max_subusers\":0,\"membership_template_id\":12,\"vault_subscription_id\":20259,\"user_id\":20821628,\"recurring_period_in_months\":1,\"created_at\":\"2016-05-11T20:13:28.000Z\",\"updated_at\":\"2021-09-13T00:05:56.000Z\",\"pricing\":{\"subscription\":{\"1\":{\"EUR\":9900,\"USD\":11900},\"12\":{\"EUR\":118800,\"USD\":142800}},\"credit\":{\"EUR\":50,\"USD\":60}},\"recurring_credits\":{\"1\":200,\"12\":2400},\"bundle_id\":null}},{\"id\":54980418,\"parent_id\":20821628,\"measurement_system\":\"\",\"email\":\"bryder01@mediatask.pl\",\"created_at\":\"2019-12-03T09:19:56.000Z\",\"updated_at\":\"2021-10-05T19:38:09.000Z\",\"language\":null,\"creator_id\":null,\"currency\":null,\"external_identifier\":null,\"membership_name\":\"subuser\",\"profile\":{\"id\":5571936,\"user_id\":54980418,\"username\":\"\",\"avatar\":{\"url\":\"https://fpcdn.floorplanner.com/uploads/avatars/5571936/LOGO_FP.PNG\"},\"firstname\":\"\",\"lastname\":\"\",\"gender\":\"other\",\"zipcode\":\"\",\"city\":\"\",\"language\":\"nl-NL\",\"measurements\":\"metric\",\"address\":\"\",\"address2\":null,\"building\":\"\",\"country_code\":\"PL\",\"phonenumber\":\"\",\"phone_country\":\"\",\"birthdate\":\"\",\"website\":null,\"currency\":\"USD\",\"newsletter\":true},\"company\":{\"id\":40795,\"user_id\":20821628,\"name\":\"Mediatask sp. z o.o. sp. k.\",\"logo\":{\"url\":null},\"vat_number\":\"PL1132901255\",\"currency\":\"EUR\",\"address\":\"plac gen. Józefa Hallera nr 5\",\"address2\":null,\"building\":\" lok. 14a\",\"city\":\"Warszawa\",\"zipcode\":\"03-464\",\"country_code\":\"PL\",\"phonenumber\":\"\",\"phone_country\":null,\"faxnumber\":null,\"company_size\":\"0\",\"billing_email\":\"biuro@mediatask.pl\",\"created_at\":\"2013-08-26T08:40:28.000Z\",\"updated_at\":\"2021-02-02T11:27:39.000Z\",\"verified_vat_at\":\"2019-02-01\"},\"credits\":-2020,\"avatar\":\"https://fpcdn.floorplanner.com/uploads/avatars/5571936/LOGO_FP.PNG\",\"features\":[],\"membership\":{\"id\":22194,\"name\":\"partner\",\"state\":\"active\",\"end_at\":\"2021-10-13T00:05:56.000Z\",\"project_level_id\":2,\"max_subusers\":0,\"membership_template_id\":12,\"vault_subscription_id\":20259,\"user_id\":20821628,\"recurring_period_in_months\":1,\"created_at\":\"2016-05-11T20:13:28.000Z\",\"updated_at\":\"2021-09-13T00:05:56.000Z\",\"pricing\":{\"subscription\":{\"1\":{\"EUR\":9900,\"USD\":11900},\"12\":{\"EUR\":118800,\"USD\":142800}},\"credit\":{\"EUR\":50,\"USD\":60}},\"recurring_credits\":{\"1\":200,\"12\":2400},\"bundle_id\":null}},{\"id\":54390213,\"parent_id\":20821628,\"measurement_system\":\"METRIC\",\"email\":\"bryder@mediatask.pl\",\"created_at\":\"2019-10-24T10:03:09.000Z\",\"updated_at\":\"2021-09-28T07:54:07.000Z\",\"language\":\"nl\",\"creator_id\":null,\"currency\":null,\"external_identifier\":null,\"membership_name\":\"subuser\",\"profile\":{\"id\":4908318,\"user_id\":54390213,\"username\":\"\",\"avatar\":{\"url\":null},\"firstname\":null,\"lastname\":null,\"gender\":null,\"zipcode\":null,\"city\":null,\"language\":\"nl-NL\",\"measurements\":\"metric\",\"address\":null,\"address2\":null,\"building\":null,\"country_code\":\"PL\",\"phonenumber\":null,\"phone_country\":null,\"birthdate\":null,\"website\":null,\"currency\":\"USD\",\"newsletter\":null},\"company\":{\"id\":40795,\"user_id\":20821628,\"name\":\"Mediatask sp. z o.o. sp. k.\",\"logo\":{\"url\":null},\"vat_number\":\"PL1132901255\",\"currency\":\"EUR\",\"address\":\"plac gen. Józefa Hallera nr 5\",\"address2\":null,\"building\":\" lok. 14a\",\"city\":\"Warszawa\",\"zipcode\":\"03-464\",\"country_code\":\"PL\",\"phonenumber\":\"\",\"phone_country\":null,\"faxnumber\":null,\"company_size\":\"0\",\"billing_email\":\"biuro@mediatask.pl\",\"created_at\":\"2013-08-26T08:40:28.000Z\",\"updated_at\":\"2021-02-02T11:27:39.000Z\",\"verified_vat_at\":\"2019-02-01\"},\"credits\":-2020,\"avatar\":null,\"features\":[],\"membership\":{\"id\":22194,\"name\":\"partner\",\"state\":\"active\",\"end_at\":\"2021-10-13T00:05:56.000Z\",\"project_level_id\":2,\"max_subusers\":0,\"membership_template_id\":12,\"vault_subscription_id\":20259,\"user_id\":20821628,\"recurring_period_in_months\":1,\"created_at\":\"2016-05-11T20:13:28.000Z\",\"updated_at\":\"2021-09-13T00:05:56.000Z\",\"pricing\":{\"subscription\":{\"1\":{\"EUR\":9900,\"USD\":11900},\"12\":{\"EUR\":118800,\"USD\":142800}},\"credit\":{\"EUR\":50,\"USD\":60}},\"recurring_credits\":{\"1\":200,\"12\":2400},\"bundle_id\":null}},{\"id\":53652609,\"parent_id\":20821628,\"measurement_system\":\"METRIC\",\"email\":\"szkolenie@mediatask.pl\",\"created_at\":\"2019-08-29T19:50:45.000Z\",\"updated_at\":\"2021-10-05T17:48:50.000Z\",\"language\":\"\",\"creator_id\":null,\"currency\":null,\"external_identifier\":null,\"membership_name\":\"subuser\",\"profile\":{\"id\":4059909,\"user_id\":53652609,\"username\":\"szkolenie\",\"avatar\":{\"url\":\"https://fpcdn.floorplanner.com/uploads/avatars/4059909/LOGO_FP.PNG\"},\"firstname\":\"\",\"lastname\":\"\",\"gender\":\"other\",\"zipcode\":\"\",\"city\":\"\",\"language\":\"en-US\",\"measurements\":\"metric\",\"address\":\"\",\"address2\":null,\"building\":\"\",\"country_code\":\"PL\",\"phonenumber\":\"\",\"phone_country\":\"\",\"birthdate\":\"\",\"website\":null,\"currency\":\"USD\",\"newsletter\":true},\"company\":{\"id\":40795,\"user_id\":20821628,\"name\":\"Mediatask sp. z o.o. sp. k.\",\"logo\":{\"url\":null},\"vat_number\":\"PL1132901255\",\"currency\":\"EUR\",\"address\":\"plac gen. Józefa Hallera nr 5\",\"address2\":null,\"building\":\" lok. 14a\",\"city\":\"Warszawa\",\"zipcode\":\"03-464\",\"country_code\":\"PL\",\"phonenumber\":\"\",\"phone_country\":null,\"faxnumber\":null,\"company_size\":\"0\",\"billing_email\":\"biuro@mediatask.pl\",\"created_at\":\"2013-08-26T08:40:28.000Z\",\"updated_at\":\"2021-02-02T11:27:39.000Z\",\"verified_vat_at\":\"2019-02-01\"},\"credits\":-2020,\"avatar\":\"https://fpcdn.floorplanner.com/uploads/avatars/4059909/LOGO_FP.PNG\",\"features\":[],\"membership\":{\"id\":22194,\"name\":\"partner\",\"state\":\"active\",\"end_at\":\"2021-10-13T00:05:56.000Z\",\"project_level_id\":2,\"max_subusers\":0,\"membership_template_id\":12,\"vault_subscription_id\":20259,\"user_id\":20821628,\"recurring_period_in_months\":1,\"created_at\":\"2016-05-11T20:13:28.000Z\",\"updated_at\":\"2021-09-13T00:05:56.000Z\",\"pricing\":{\"subscription\":{\"1\":{\"EUR\":9900,\"USD\":11900},\"12\":{\"EUR\":118800,\"USD\":142800}},\"credit\":{\"EUR\":50,\"USD\":60}},\"recurring_credits\":{\"1\":200,\"12\":2400},\"bundle_id\":null}},{\"id\":53519010,\"parent_id\":20821628,\"measurement_system\":\"METRIC\",\"email\":\"jacek@mediatask.pl\",\"created_at\":\"2019-08-16T10:03:42.000Z\",\"updated_at\":\"2021-05-05T20:47:31.000Z\",\"language\":\"\",\"creator_id\":null,\"currency\":null,\"external_identifier\":null,\"membership_name\":\"subuser\",\"profile\":{\"id\":3901470,\"user_id\":53519010,\"username\":\"\",\"avatar\":{\"url\":null},\"firstname\":\"\",\"lastname\":\"\",\"gender\":\"other\",\"zipcode\":\"\",\"city\":\"\",\"language\":\"en-US\",\"measurements\":\"metric\",\"address\":\"\",\"address2\":null,\"building\":\"\",\"country_code\":\"PL\",\"phonenumber\":\"\",\"phone_country\":\"\",\"birthdate\":\"\",\"website\":null,\"currency\":\"EUR\",\"newsletter\":true},\"company\":{\"id\":40795,\"user_id\":20821628,\"name\":\"Mediatask sp. z o.o. sp. k.\",\"logo\":{\"url\":null},\"vat_number\":\"PL1132901255\",\"currency\":\"EUR\",\"address\":\"plac gen. Józefa Hallera nr 5\",\"address2\":null,\"building\":\" lok. 14a\",\"city\":\"Warszawa\",\"zipcode\":\"03-464\",\"country_code\":\"PL\",\"phonenumber\":\"\",\"phone_country\":null,\"faxnumber\":null,\"company_size\":\"0\",\"billing_email\":\"biuro@mediatask.pl\",\"created_at\":\"2013-08-26T08:40:28.000Z\",\"updated_at\":\"2021-02-02T11:27:39.000Z\",\"verified_vat_at\":\"2019-02-01\"},\"credits\":-2020,\"avatar\":null,\"features\":[],\"membership\":{\"id\":22194,\"name\":\"partner\",\"state\":\"active\",\"end_at\":\"2021-10-13T00:05:56.000Z\",\"project_level_id\":2,\"max_subusers\":0,\"membership_template_id\":12,\"vault_subscription_id\":20259,\"user_id\":20821628,\"recurring_period_in_months\":1,\"created_at\":\"2016-05-11T20:13:28.000Z\",\"updated_at\":\"2021-09-13T00:05:56.000Z\",\"pricing\":{\"subscription\":{\"1\":{\"EUR\":9900,\"USD\":11900},\"12\":{\"EUR\":118800,\"USD\":142800}},\"credit\":{\"EUR\":50,\"USD\":60}},\"recurring_credits\":{\"1\":200,\"12\":2400},\"bundle_id\":null}},{\"id\":49590372,\"parent_id\":20821628,\"measurement_system\":\"\",\"email\":\"tibimedia@mediatask.pl\",\"created_at\":\"2018-10-04T09:39:37.000Z\",\"updated_at\":\"2021-07-05T11:18:24.000Z\",\"language\":null,\"creator_id\":null,\"currency\":null,\"external_identifier\":null,\"membership_name\":\"subuser\",\"profile\":{\"id\":1992087,\"user_id\":49590372,\"username\":null,\"avatar\":{\"url\":null},\"firstname\":null,\"lastname\":null,\"gender\":null,\"zipcode\":null,\"city\":null,\"language\":\"en-US\",\"measurements\":null,\"address\":null,\"address2\":null,\"building\":null,\"country_code\":\"US\",\"phonenumber\":null,\"phone_country\":null,\"birthdate\":null,\"website\":null,\"currency\":\"USD\",\"newsletter\":null},\"company\":{\"id\":40795,\"user_id\":20821628,\"name\":\"Mediatask sp. z o.o. sp. k.\",\"logo\":{\"url\":null},\"vat_number\":\"PL1132901255\",\"currency\":\"EUR\",\"address\":\"plac gen. Józefa Hallera nr 5\",\"address2\":null,\"building\":\" lok. 14a\",\"city\":\"Warszawa\",\"zipcode\":\"03-464\",\"country_code\":\"PL\",\"phonenumber\":\"\",\"phone_country\":null,\"faxnumber\":null,\"company_size\":\"0\",\"billing_email\":\"biuro@mediatask.pl\",\"created_at\":\"2013-08-26T08:40:28.000Z\",\"updated_at\":\"2021-02-02T11:27:39.000Z\",\"verified_vat_at\":\"2019-02-01\"},\"credits\":-2020,\"avatar\":null,\"features\":[],\"membership\":{\"id\":22194,\"name\":\"partner\",\"state\":\"active\",\"end_at\":\"2021-10-13T00:05:56.000Z\",\"project_level_id\":2,\"max_subusers\":0,\"membership_template_id\":12,\"vault_subscription_id\":20259,\"user_id\":20821628,\"recurring_period_in_months\":1,\"created_at\":\"2016-05-11T20:13:28.000Z\",\"updated_at\":\"2021-09-13T00:05:56.000Z\",\"pricing\":{\"subscription\":{\"1\":{\"EUR\":9900,\"USD\":11900},\"12\":{\"EUR\":118800,\"USD\":142800}},\"credit\":{\"EUR\":50,\"USD\":60}},\"recurring_credits\":{\"1\":200,\"12\":2400},\"bundle_id\":null}},{\"id\":49589892,\"parent_id\":20821628,\"measurement_system\":\"\",\"email\":\"psp@mediatask.pl\",\"created_at\":\"2018-10-04T08:59:10.000Z\",\"updated_at\":\"2021-08-17T12:02:52.000Z\",\"language\":null,\"creator_id\":null,\"currency\":null,\"external_identifier\":null,\"membership_name\":\"subuser\",\"profile\":{\"id\":1992081,\"user_id\":49589892,\"username\":null,\"avatar\":{\"url\":null},\"firstname\":null,\"lastname\":null,\"gender\":null,\"zipcode\":null,\"city\":null,\"language\":\"en-US\",\"measurements\":null,\"address\":null,\"address2\":null,\"building\":null,\"country_code\":\"US\",\"phonenumber\":null,\"phone_country\":null,\"birthdate\":null,\"website\":null,\"currency\":\"USD\",\"newsletter\":null},\"company\":{\"id\":40795,\"user_id\":20821628,\"name\":\"Mediatask sp. z o.o. sp. k.\",\"logo\":{\"url\":null},\"vat_number\":\"PL1132901255\",\"currency\":\"EUR\",\"address\":\"plac gen. Józefa Hallera nr 5\",\"address2\":null,\"building\":\" lok. 14a\",\"city\":\"Warszawa\",\"zipcode\":\"03-464\",\"country_code\":\"PL\",\"phonenumber\":\"\",\"phone_country\":null,\"faxnumber\":null,\"company_size\":\"0\",\"billing_email\":\"biuro@mediatask.pl\",\"created_at\":\"2013-08-26T08:40:28.000Z\",\"updated_at\":\"2021-02-02T11:27:39.000Z\",\"verified_vat_at\":\"2019-02-01\"},\"credits\":-2020,\"avatar\":null,\"features\":[],\"membership\":{\"id\":22194,\"name\":\"partner\",\"state\":\"active\",\"end_at\":\"2021-10-13T00:05:56.000Z\",\"project_level_id\":2,\"max_subusers\":0,\"membership_template_id\":12,\"vault_subscription_id\":20259,\"user_id\":20821628,\"recurring_period_in_months\":1,\"created_at\":\"2016-05-11T20:13:28.000Z\",\"updated_at\":\"2021-09-13T00:05:56.000Z\",\"pricing\":{\"subscription\":{\"1\":{\"EUR\":9900,\"USD\":11900},\"12\":{\"EUR\":118800,\"USD\":142800}},\"credit\":{\"EUR\":50,\"USD\":60}},\"recurring_credits\":{\"1\":200,\"12\":2400},\"bundle_id\":null}},{\"id\":48846117,\"parent_id\":20821628,\"measurement_system\":\"\",\"email\":\"nenrapport@mediatask.pl\",\"created_at\":\"2018-08-07T13:58:10.000Z\",\"updated_at\":\"2021-10-05T18:07:26.000Z\",\"language\":null,\"creator_id\":null,\"currency\":null,\"external_identifier\":null,\"membership_name\":\"subuser\",\"profile\":{\"id\":125253,\"user_id\":48846117,\"username\":null,\"avatar\":{\"url\":null},\"firstname\":null,\"lastname\":null,\"gender\":null,\"zipcode\":null,\"city\":null,\"language\":null,\"measurements\":\"\",\"address\":null,\"address2\":null,\"building\":null,\"country_code\":null,\"phonenumber\":null,\"phone_country\":null,\"birthdate\":null,\"website\":null,\"currency\":null,\"newsletter\":null},\"company\":{\"id\":40795,\"user_id\":20821628,\"name\":\"Mediatask sp. z o.o. sp. k.\",\"logo\":{\"url\":null},\"vat_number\":\"PL1132901255\",\"currency\":\"EUR\",\"address\":\"plac gen. Józefa Hallera nr 5\",\"address2\":null,\"building\":\" lok. 14a\",\"city\":\"Warszawa\",\"zipcode\":\"03-464\",\"country_code\":\"PL\",\"phonenumber\":\"\",\"phone_country\":null,\"faxnumber\":null,\"company_size\":\"0\",\"billing_email\":\"biuro@mediatask.pl\",\"created_at\":\"2013-08-26T08:40:28.000Z\",\"updated_at\":\"2021-02-02T11:27:39.000Z\",\"verified_vat_at\":\"2019-02-01\"},\"credits\":-2020,\"avatar\":null,\"features\":[],\"membership\":{\"id\":22194,\"name\":\"partner\",\"state\":\"active\",\"end_at\":\"2021-10-13T00:05:56.000Z\",\"project_level_id\":2,\"max_subusers\":0,\"membership_template_id\":12,\"vault_subscription_id\":20259,\"user_id\":20821628,\"recurring_period_in_months\":1,\"created_at\":\"2016-05-11T20:13:28.000Z\",\"updated_at\":\"2021-09-13T00:05:56.000Z\",\"pricing\":{\"subscription\":{\"1\":{\"EUR\":9900,\"USD\":11900},\"12\":{\"EUR\":118800,\"USD\":142800}},\"credit\":{\"EUR\":50,\"USD\":60}},\"recurring_credits\":{\"1\":200,\"12\":2400},\"bundle_id\":null}},{\"id\":47812171,\"parent_id\":20821628,\"measurement_system\":\"METRIC\",\"email\":\"factoryfloorplan@gmail.com\",\"created_at\":\"2018-05-16T12:42:34.000Z\",\"updated_at\":\"2019-06-12T07:25:18.000Z\",\"language\":\"nl\",\"creator_id\":null,\"currency\":null,\"external_identifier\":null,\"membership_name\":\"subuser\",\"profile\":{\"id\":7114,\"user_id\":47812171,\"username\":null,\"avatar\":{\"url\":null},\"firstname\":null,\"lastname\":null,\"gender\":null,\"zipcode\":null,\"city\":null,\"language\":\"nl-NL\",\"measurements\":\"metric\",\"address\":null,\"address2\":null,\"building\":null,\"country_code\":null,\"phonenumber\":null,\"phone_country\":null,\"birthdate\":null,\"website\":null,\"currency\":null,\"newsletter\":null},\"company\":{\"id\":40795,\"user_id\":20821628,\"name\":\"Mediatask sp. z o.o. sp. k.\",\"logo\":{\"url\":null},\"vat_number\":\"PL1132901255\",\"currency\":\"EUR\",\"address\":\"plac gen. Józefa Hallera nr 5\",\"address2\":null,\"building\":\" lok. 14a\",\"city\":\"Warszawa\",\"zipcode\":\"03-464\",\"country_code\":\"PL\",\"phonenumber\":\"\",\"phone_country\":null,\"faxnumber\":null,\"company_size\":\"0\",\"billing_email\":\"biuro@mediatask.pl\",\"created_at\":\"2013-08-26T08:40:28.000Z\",\"updated_at\":\"2021-02-02T11:27:39.000Z\",\"verified_vat_at\":\"2019-02-01\"},\"credits\":-2020,\"avatar\":null,\"features\":[],\"membership\":{\"id\":22194,\"name\":\"partner\",\"state\":\"active\",\"end_at\":\"2021-10-13T00:05:56.000Z\",\"project_level_id\":2,\"max_subusers\":0,\"membership_template_id\":12,\"vault_subscription_id\":20259,\"user_id\":20821628,\"recurring_period_in_months\":1,\"created_at\":\"2016-05-11T20:13:28.000Z\",\"updated_at\":\"2021-09-13T00:05:56.000Z\",\"pricing\":{\"subscription\":{\"1\":{\"EUR\":9900,\"USD\":11900},\"12\":{\"EUR\":118800,\"USD\":142800}},\"credit\":{\"EUR\":50,\"USD\":60}},\"recurring_credits\":{\"1\":200,\"12\":2400},\"bundle_id\":null}},{\"id\":46847074,\"parent_id\":20821628,\"measurement_system\":\"METRIC\",\"email\":\"beeldpakket@mediatask.pl\",\"created_at\":\"2018-03-20T12:23:50.000Z\",\"updated_at\":\"2021-10-05T11:36:04.000Z\",\"language\":\"\",\"creator_id\":null,\"currency\":null,\"external_identifier\":null,\"membership_name\":\"subuser\",\"profile\":{\"id\":996720,\"user_id\":46847074,\"username\":\"\",\"avatar\":{\"url\":null},\"firstname\":null,\"lastname\":null,\"gender\":null,\"zipcode\":null,\"city\":null,\"language\":\"en-US\",\"measurements\":\"metric\",\"address\":null,\"address2\":null,\"building\":null,\"country_code\":\"PL\",\"phonenumber\":null,\"phone_country\":null,\"birthdate\":null,\"website\":null,\"currency\":\"USD\",\"newsletter\":null},\"company\":{\"id\":40795,\"user_id\":20821628,\"name\":\"Mediatask sp. z o.o. sp. k.\",\"logo\":{\"url\":null},\"vat_number\":\"PL1132901255\",\"currency\":\"EUR\",\"address\":\"plac gen. Józefa Hallera nr 5\",\"address2\":null,\"building\":\" lok. 14a\",\"city\":\"Warszawa\",\"zipcode\":\"03-464\",\"country_code\":\"PL\",\"phonenumber\":\"\",\"phone_country\":null,\"faxnumber\":null,\"company_size\":\"0\",\"billing_email\":\"biuro@mediatask.pl\",\"created_at\":\"2013-08-26T08:40:28.000Z\",\"updated_at\":\"2021-02-02T11:27:39.000Z\",\"verified_vat_at\":\"2019-02-01\"},\"credits\":-2020,\"avatar\":null,\"features\":[],\"membership\":{\"id\":22194,\"name\":\"partner\",\"state\":\"active\",\"end_at\":\"2021-10-13T00:05:56.000Z\",\"project_level_id\":2,\"max_subusers\":0,\"membership_template_id\":12,\"vault_subscription_id\":20259,\"user_id\":20821628,\"recurring_period_in_months\":1,\"created_at\":\"2016-05-11T20:13:28.000Z\",\"updated_at\":\"2021-09-13T00:05:56.000Z\",\"pricing\":{\"subscription\":{\"1\":{\"EUR\":9900,\"USD\":11900},\"12\":{\"EUR\":118800,\"USD\":142800}},\"credit\":{\"EUR\":50,\"USD\":60}},\"recurring_credits\":{\"1\":200,\"12\":2400},\"bundle_id\":null}},{\"id\":46014373,\"parent_id\":20821628,\"measurement_system\":\"\",\"email\":\"tekenplan@mediatask.pl\",\"created_at\":\"2018-01-30T21:37:51.000Z\",\"updated_at\":\"2019-05-14T11:15:21.000Z\",\"language\":null,\"creator_id\":null,\"currency\":null,\"external_identifier\":null,\"membership_name\":\"subuser\",\"profile\":{\"id\":2372565,\"user_id\":46014373,\"username\":null,\"avatar\":{\"url\":null},\"firstname\":null,\"lastname\":null,\"gender\":null,\"zipcode\":null,\"city\":null,\"language\":\"en-US\",\"measurements\":null,\"address\":null,\"address2\":null,\"building\":null,\"country_code\":\"US\",\"phonenumber\":null,\"phone_country\":null,\"birthdate\":null,\"website\":null,\"currency\":\"USD\",\"newsletter\":null},\"company\":{\"id\":40795,\"user_id\":20821628,\"name\":\"Mediatask sp. z o.o. sp. k.\",\"logo\":{\"url\":null},\"vat_number\":\"PL1132901255\",\"currency\":\"EUR\",\"address\":\"plac gen. Józefa Hallera nr 5\",\"address2\":null,\"building\":\" lok. 14a\",\"city\":\"Warszawa\",\"zipcode\":\"03-464\",\"country_code\":\"PL\",\"phonenumber\":\"\",\"phone_country\":null,\"faxnumber\":null,\"company_size\":\"0\",\"billing_email\":\"biuro@mediatask.pl\",\"created_at\":\"2013-08-26T08:40:28.000Z\",\"updated_at\":\"2021-02-02T11:27:39.000Z\",\"verified_vat_at\":\"2019-02-01\"},\"credits\":-2020,\"avatar\":null,\"features\":[],\"membership\":{\"id\":22194,\"name\":\"partner\",\"state\":\"active\",\"end_at\":\"2021-10-13T00:05:56.000Z\",\"project_level_id\":2,\"max_subusers\":0,\"membership_template_id\":12,\"vault_subscription_id\":20259,\"user_id\":20821628,\"recurring_period_in_months\":1,\"created_at\":\"2016-05-11T20:13:28.000Z\",\"updated_at\":\"2021-09-13T00:05:56.000Z\",\"pricing\":{\"subscription\":{\"1\":{\"EUR\":9900,\"USD\":11900},\"12\":{\"EUR\":118800,\"USD\":142800}},\"credit\":{\"EUR\":50,\"USD\":60}},\"recurring_credits\":{\"1\":200,\"12\":2400},\"bundle_id\":null}},{\"id\":45304582,\"parent_id\":20821628,\"measurement_system\":\"\",\"email\":\"maylan@mediatask.pl\",\"created_at\":\"2017-12-08T00:39:46.000Z\",\"updated_at\":\"2021-10-01T14:20:13.000Z\",\"language\":\"\",\"creator_id\":null,\"currency\":null,\"external_identifier\":null,\"membership_name\":\"subuser\",\"profile\":{\"id\":1042689,\"user_id\":45304582,\"username\":null,\"avatar\":{\"url\":null},\"firstname\":null,\"lastname\":null,\"gender\":null,\"zipcode\":null,\"city\":null,\"language\":\"en-US\",\"measurements\":null,\"address\":null,\"address2\":null,\"building\":null,\"country_code\":\"US\",\"phonenumber\":null,\"phone_country\":null,\"birthdate\":null,\"website\":null,\"currency\":\"USD\",\"newsletter\":null},\"company\":{\"id\":40795,\"user_id\":20821628,\"name\":\"Mediatask sp. z o.o. sp. k.\",\"logo\":{\"url\":null},\"vat_number\":\"PL1132901255\",\"currency\":\"EUR\",\"address\":\"plac gen. Józefa Hallera nr 5\",\"address2\":null,\"building\":\" lok. 14a\",\"city\":\"Warszawa\",\"zipcode\":\"03-464\",\"country_code\":\"PL\",\"phonenumber\":\"\",\"phone_country\":null,\"faxnumber\":null,\"company_size\":\"0\",\"billing_email\":\"biuro@mediatask.pl\",\"created_at\":\"2013-08-26T08:40:28.000Z\",\"updated_at\":\"2021-02-02T11:27:39.000Z\",\"verified_vat_at\":\"2019-02-01\"},\"credits\":-2020,\"avatar\":null,\"features\":[],\"membership\":{\"id\":22194,\"name\":\"partner\",\"state\":\"active\",\"end_at\":\"2021-10-13T00:05:56.000Z\",\"project_level_id\":2,\"max_subusers\":0,\"membership_template_id\":12,\"vault_subscription_id\":20259,\"user_id\":20821628,\"recurring_period_in_months\":1,\"created_at\":\"2016-05-11T20:13:28.000Z\",\"updated_at\":\"2021-09-13T00:05:56.000Z\",\"pricing\":{\"subscription\":{\"1\":{\"EUR\":9900,\"USD\":11900},\"12\":{\"EUR\":118800,\"USD\":142800}},\"credit\":{\"EUR\":50,\"USD\":60}},\"recurring_credits\":{\"1\":200,\"12\":2400},\"bundle_id\":null}},{\"id\":44454316,\"parent_id\":20821628,\"measurement_system\":\"METRIC\",\"email\":\"woningvisueel@mediatask.pl\",\"created_at\":\"2017-10-19T00:52:46.000Z\",\"updated_at\":\"2021-10-05T14:32:12.000Z\",\"language\":\"\",\"creator_id\":null,\"currency\":null,\"external_identifier\":null,\"membership_name\":\"subuser\",\"profile\":{\"id\":994215,\"user_id\":44454316,\"username\":\"woningvisueel@mediatask.pl\",\"avatar\":{\"url\":null},\"firstname\":\"\",\"lastname\":\"\",\"gender\":\"other\",\"zipcode\":\"\",\"city\":\"\",\"language\":\"en-US\",\"measurements\":\"metric\",\"address\":\"\",\"address2\":null,\"building\":\"\",\"country_code\":\"PL\",\"phonenumber\":\"\",\"phone_country\":\"\",\"birthdate\":\"\",\"website\":null,\"currency\":\"USD\",\"newsletter\":true},\"company\":{\"id\":40795,\"user_id\":20821628,\"name\":\"Mediatask sp. z o.o. sp. k.\",\"logo\":{\"url\":null},\"vat_number\":\"PL1132901255\",\"currency\":\"EUR\",\"address\":\"plac gen. Józefa Hallera nr 5\",\"address2\":null,\"building\":\" lok. 14a\",\"city\":\"Warszawa\",\"zipcode\":\"03-464\",\"country_code\":\"PL\",\"phonenumber\":\"\",\"phone_country\":null,\"faxnumber\":null,\"company_size\":\"0\",\"billing_email\":\"biuro@mediatask.pl\",\"created_at\":\"2013-08-26T08:40:28.000Z\",\"updated_at\":\"2021-02-02T11:27:39.000Z\",\"verified_vat_at\":\"2019-02-01\"},\"credits\":-2020,\"avatar\":null,\"features\":[],\"membership\":{\"id\":22194,\"name\":\"partner\",\"state\":\"active\",\"end_at\":\"2021-10-13T00:05:56.000Z\",\"project_level_id\":2,\"max_subusers\":0,\"membership_template_id\":12,\"vault_subscription_id\":20259,\"user_id\":20821628,\"recurring_period_in_months\":1,\"created_at\":\"2016-05-11T20:13:28.000Z\",\"updated_at\":\"2021-09-13T00:05:56.000Z\",\"pricing\":{\"subscription\":{\"1\":{\"EUR\":9900,\"USD\":11900},\"12\":{\"EUR\":118800,\"USD\":142800}},\"credit\":{\"EUR\":50,\"USD\":60}},\"recurring_credits\":{\"1\":200,\"12\":2400},\"bundle_id\":null}},{\"id\":44424451,\"parent_id\":20821628,\"measurement_system\":\"\",\"email\":\"debeeldgarage@mediatask.pl\",\"created_at\":\"2017-10-17T13:30:49.000Z\",\"updated_at\":\"2021-10-04T07:56:29.000Z\",\"language\":\"\",\"creator_id\":null,\"currency\":null,\"external_identifier\":null,\"membership_name\":\"subuser\",\"profile\":{\"id\":12592,\"user_id\":44424451,\"username\":null,\"avatar\":{\"url\":null},\"firstname\":null,\"lastname\":null,\"gender\":null,\"zipcode\":null,\"city\":null,\"language\":null,\"measurements\":\"\",\"address\":null,\"address2\":null,\"building\":null,\"country_code\":null,\"phonenumber\":null,\"phone_country\":null,\"birthdate\":null,\"website\":null,\"currency\":null,\"newsletter\":null},\"company\":{\"id\":40795,\"user_id\":20821628,\"name\":\"Mediatask sp. z o.o. sp. k.\",\"logo\":{\"url\":null},\"vat_number\":\"PL1132901255\",\"currency\":\"EUR\",\"address\":\"plac gen. Józefa Hallera nr 5\",\"address2\":null,\"building\":\" lok. 14a\",\"city\":\"Warszawa\",\"zipcode\":\"03-464\",\"country_code\":\"PL\",\"phonenumber\":\"\",\"phone_country\":null,\"faxnumber\":null,\"company_size\":\"0\",\"billing_email\":\"biuro@mediatask.pl\",\"created_at\":\"2013-08-26T08:40:28.000Z\",\"updated_at\":\"2021-02-02T11:27:39.000Z\",\"verified_vat_at\":\"2019-02-01\"},\"credits\":-2020,\"avatar\":null,\"features\":[],\"membership\":{\"id\":22194,\"name\":\"partner\",\"state\":\"active\",\"end_at\":\"2021-10-13T00:05:56.000Z\",\"project_level_id\":2,\"max_subusers\":0,\"membership_template_id\":12,\"vault_subscription_id\":20259,\"user_id\":20821628,\"recurring_period_in_months\":1,\"created_at\":\"2016-05-11T20:13:28.000Z\",\"updated_at\":\"2021-09-13T00:05:56.000Z\",\"pricing\":{\"subscription\":{\"1\":{\"EUR\":9900,\"USD\":11900},\"12\":{\"EUR\":118800,\"USD\":142800}},\"credit\":{\"EUR\":50,\"USD\":60}},\"recurring_credits\":{\"1\":200,\"12\":2400},\"bundle_id\":null}},{\"id\":42460341,\"parent_id\":20821628,\"measurement_system\":\"IMPERIAL\",\"email\":\"dynamicmediasolutions@mediatask.pl\",\"created_at\":\"2017-05-22T09:44:53.000Z\",\"updated_at\":\"2021-10-05T19:34:19.000Z\",\"language\":\"en-US\",\"creator_id\":null,\"currency\":null,\"external_identifier\":null,\"membership_name\":\"subuser\",\"profile\":{\"id\":988686,\"user_id\":42460341,\"username\":\"DMS\",\"avatar\":{\"url\":\"https://fpcdn.floorplanner.com/uploads/avatars/988686/Logo_DMS.jpg\"},\"firstname\":\"\",\"lastname\":\"\",\"gender\":\"other\",\"zipcode\":\"\",\"city\":\"\",\"language\":\"en-US\",\"measurements\":\"imperial\",\"address\":\"\",\"address2\":null,\"building\":\"\",\"country_code\":\"PL\",\"phonenumber\":\"\",\"phone_country\":\"\",\"birthdate\":\"\",\"website\":null,\"currency\":\"EUR\",\"newsletter\":true},\"company\":{\"id\":40795,\"user_id\":20821628,\"name\":\"Mediatask sp. z o.o. sp. k.\",\"logo\":{\"url\":null},\"vat_number\":\"PL1132901255\",\"currency\":\"EUR\",\"address\":\"plac gen. Józefa Hallera nr 5\",\"address2\":null,\"building\":\" lok. 14a\",\"city\":\"Warszawa\",\"zipcode\":\"03-464\",\"country_code\":\"PL\",\"phonenumber\":\"\",\"phone_country\":null,\"faxnumber\":null,\"company_size\":\"0\",\"billing_email\":\"biuro@mediatask.pl\",\"created_at\":\"2013-08-26T08:40:28.000Z\",\"updated_at\":\"2021-02-02T11:27:39.000Z\",\"verified_vat_at\":\"2019-02-01\"},\"credits\":-2020,\"avatar\":\"https://fpcdn.floorplanner.com/uploads/avatars/988686/Logo_DMS.jpg\",\"features\":[],\"membership\":{\"id\":22194,\"name\":\"partner\",\"state\":\"active\",\"end_at\":\"2021-10-13T00:05:56.000Z\",\"project_level_id\":2,\"max_subusers\":0,\"membership_template_id\":12,\"vault_subscription_id\":20259,\"user_id\":20821628,\"recurring_period_in_months\":1,\"created_at\":\"2016-05-11T20:13:28.000Z\",\"updated_at\":\"2021-09-13T00:05:56.000Z\",\"pricing\":{\"subscription\":{\"1\":{\"EUR\":9900,\"USD\":11900},\"12\":{\"EUR\":118800,\"USD\":142800}},\"credit\":{\"EUR\":50,\"USD\":60}},\"recurring_credits\":{\"1\":200,\"12\":2400},\"bundle_id\":null}},{\"id\":37369713,\"parent_id\":20821628,\"measurement_system\":\"METRIC\",\"email\":\"szkolenie2@mediatask.pl\",\"created_at\":\"2016-08-01T06:11:23.000Z\",\"updated_at\":\"2019-06-07T13:08:08.000Z\",\"language\":\"pl\",\"creator_id\":null,\"currency\":null,\"external_identifier\":null,\"membership_name\":\"subuser\",\"profile\":{\"id\":2372568,\"user_id\":37369713,\"username\":null,\"avatar\":{\"url\":null},\"firstname\":null,\"lastname\":null,\"gender\":null,\"zipcode\":null,\"city\":null,\"language\":\"en-US\",\"measurements\":null,\"address\":null,\"address2\":null,\"building\":null,\"country_code\":\"PL\",\"phonenumber\":null,\"phone_country\":null,\"birthdate\":null,\"website\":null,\"currency\":\"USD\",\"newsletter\":null},\"company\":{\"id\":40795,\"user_id\":20821628,\"name\":\"Mediatask sp. z o.o. sp. k.\",\"logo\":{\"url\":null},\"vat_number\":\"PL1132901255\",\"currency\":\"EUR\",\"address\":\"plac gen. Józefa Hallera nr 5\",\"address2\":null,\"building\":\" lok. 14a\",\"city\":\"Warszawa\",\"zipcode\":\"03-464\",\"country_code\":\"PL\",\"phonenumber\":\"\",\"phone_country\":null,\"faxnumber\":null,\"company_size\":\"0\",\"billing_email\":\"biuro@mediatask.pl\",\"created_at\":\"2013-08-26T08:40:28.000Z\",\"updated_at\":\"2021-02-02T11:27:39.000Z\",\"verified_vat_at\":\"2019-02-01\"},\"credits\":-2020,\"avatar\":null,\"features\":[],\"membership\":{\"id\":22194,\"name\":\"partner\",\"state\":\"active\",\"end_at\":\"2021-10-13T00:05:56.000Z\",\"project_level_id\":2,\"max_subusers\":0,\"membership_template_id\":12,\"vault_subscription_id\":20259,\"user_id\":20821628,\"recurring_period_in_months\":1,\"created_at\":\"2016-05-11T20:13:28.000Z\",\"updated_at\":\"2021-09-13T00:05:56.000Z\",\"pricing\":{\"subscription\":{\"1\":{\"EUR\":9900,\"USD\":11900},\"12\":{\"EUR\":118800,\"USD\":142800}},\"credit\":{\"EUR\":50,\"USD\":60}},\"recurring_credits\":{\"1\":200,\"12\":2400},\"bundle_id\":null}},{\"id\":37335645,\"parent_id\":20821628,\"measurement_system\":\"METRIC\",\"email\":\"kulik2308@gmail.com\",\"created_at\":\"2016-07-29T10:10:13.000Z\",\"updated_at\":\"2021-10-05T06:53:10.000Z\",\"language\":\"pl\",\"creator_id\":null,\"currency\":null,\"external_identifier\":null,\"membership_name\":\"subuser\",\"profile\":{\"id\":1027785,\"user_id\":37335645,\"username\":\"szkolenie@mediatask.pl\",\"avatar\":{\"url\":null},\"firstname\":null,\"lastname\":null,\"gender\":null,\"zipcode\":null,\"city\":null,\"language\":\"pl-PL\",\"measurements\":\"metric\",\"address\":null,\"address2\":null,\"building\":null,\"country_code\":\"PL\",\"phonenumber\":null,\"phone_country\":null,\"birthdate\":null,\"website\":null,\"currency\":\"USD\",\"newsletter\":null},\"company\":{\"id\":40795,\"user_id\":20821628,\"name\":\"Mediatask sp. z o.o. sp. k.\",\"logo\":{\"url\":null},\"vat_number\":\"PL1132901255\",\"currency\":\"EUR\",\"address\":\"plac gen. Józefa Hallera nr 5\",\"address2\":null,\"building\":\" lok. 14a\",\"city\":\"Warszawa\",\"zipcode\":\"03-464\",\"country_code\":\"PL\",\"phonenumber\":\"\",\"phone_country\":null,\"faxnumber\":null,\"company_size\":\"0\",\"billing_email\":\"biuro@mediatask.pl\",\"created_at\":\"2013-08-26T08:40:28.000Z\",\"updated_at\":\"2021-02-02T11:27:39.000Z\",\"verified_vat_at\":\"2019-02-01\"},\"credits\":-2020,\"avatar\":null,\"features\":[],\"membership\":{\"id\":22194,\"name\":\"partner\",\"state\":\"active\",\"end_at\":\"2021-10-13T00:05:56.000Z\",\"project_level_id\":2,\"max_subusers\":0,\"membership_template_id\":12,\"vault_subscription_id\":20259,\"user_id\":20821628,\"recurring_period_in_months\":1,\"created_at\":\"2016-05-11T20:13:28.000Z\",\"updated_at\":\"2021-09-13T00:05:56.000Z\",\"pricing\":{\"subscription\":{\"1\":{\"EUR\":9900,\"USD\":11900},\"12\":{\"EUR\":118800,\"USD\":142800}},\"credit\":{\"EUR\":50,\"USD\":60}},\"recurring_credits\":{\"1\":200,\"12\":2400},\"bundle_id\":null}},{\"id\":37335639,\"parent_id\":20821628,\"measurement_system\":\"\",\"email\":\"szkolenie3@mediatask.pl\",\"created_at\":\"2016-07-29T10:09:35.000Z\",\"updated_at\":\"2019-04-29T15:49:17.000Z\",\"language\":null,\"creator_id\":null,\"currency\":null,\"external_identifier\":null,\"membership_name\":\"subuser\",\"profile\":{\"id\":2372571,\"user_id\":37335639,\"username\":null,\"avatar\":{\"url\":null},\"firstname\":null,\"lastname\":null,\"gender\":null,\"zipcode\":null,\"city\":null,\"language\":\"en-US\",\"measurements\":null,\"address\":null,\"address2\":null,\"building\":null,\"country_code\":\"US\",\"phonenumber\":null,\"phone_country\":null,\"birthdate\":null,\"website\":null,\"currency\":\"USD\",\"newsletter\":null},\"company\":{\"id\":40795,\"user_id\":20821628,\"name\":\"Mediatask sp. z o.o. sp. k.\",\"logo\":{\"url\":null},\"vat_number\":\"PL1132901255\",\"currency\":\"EUR\",\"address\":\"plac gen. Józefa Hallera nr 5\",\"address2\":null,\"building\":\" lok. 14a\",\"city\":\"Warszawa\",\"zipcode\":\"03-464\",\"country_code\":\"PL\",\"phonenumber\":\"\",\"phone_country\":null,\"faxnumber\":null,\"company_size\":\"0\",\"billing_email\":\"biuro@mediatask.pl\",\"created_at\":\"2013-08-26T08:40:28.000Z\",\"updated_at\":\"2021-02-02T11:27:39.000Z\",\"verified_vat_at\":\"2019-02-01\"},\"credits\":-2020,\"avatar\":null,\"features\":[],\"membership\":{\"id\":22194,\"name\":\"partner\",\"state\":\"active\",\"end_at\":\"2021-10-13T00:05:56.000Z\",\"project_level_id\":2,\"max_subusers\":0,\"membership_template_id\":12,\"vault_subscription_id\":20259,\"user_id\":20821628,\"recurring_period_in_months\":1,\"created_at\":\"2016-05-11T20:13:28.000Z\",\"updated_at\":\"2021-09-13T00:05:56.000Z\",\"pricing\":{\"subscription\":{\"1\":{\"EUR\":9900,\"USD\":11900},\"12\":{\"EUR\":118800,\"USD\":142800}},\"credit\":{\"EUR\":50,\"USD\":60}},\"recurring_credits\":{\"1\":200,\"12\":2400},\"bundle_id\":null}},{\"id\":37335618,\"parent_id\":20821628,\"measurement_system\":\"\",\"email\":\"szkolenie1@mediatask.pl\",\"created_at\":\"2016-07-29T10:06:56.000Z\",\"updated_at\":\"2019-08-30T08:50:43.000Z\",\"language\":null,\"creator_id\":null,\"currency\":null,\"external_identifier\":null,\"membership_name\":\"subuser\",\"profile\":{\"id\":2372574,\"user_id\":37335618,\"username\":null,\"avatar\":{\"url\":null},\"firstname\":null,\"lastname\":null,\"gender\":null,\"zipcode\":null,\"city\":null,\"language\":\"en-US\",\"measurements\":null,\"address\":null,\"address2\":null,\"building\":null,\"country_code\":\"US\",\"phonenumber\":null,\"phone_country\":null,\"birthdate\":null,\"website\":null,\"currency\":\"USD\",\"newsletter\":null},\"company\":{\"id\":40795,\"user_id\":20821628,\"name\":\"Mediatask sp. z o.o. sp. k.\",\"logo\":{\"url\":null},\"vat_number\":\"PL1132901255\",\"currency\":\"EUR\",\"address\":\"plac gen. Józefa Hallera nr 5\",\"address2\":null,\"building\":\" lok. 14a\",\"city\":\"Warszawa\",\"zipcode\":\"03-464\",\"country_code\":\"PL\",\"phonenumber\":\"\",\"phone_country\":null,\"faxnumber\":null,\"company_size\":\"0\",\"billing_email\":\"biuro@mediatask.pl\",\"created_at\":\"2013-08-26T08:40:28.000Z\",\"updated_at\":\"2021-02-02T11:27:39.000Z\",\"verified_vat_at\":\"2019-02-01\"},\"credits\":-2020,\"avatar\":null,\"features\":[],\"membership\":{\"id\":22194,\"name\":\"partner\",\"state\":\"active\",\"end_at\":\"2021-10-13T00:05:56.000Z\",\"project_level_id\":2,\"max_subusers\":0,\"membership_template_id\":12,\"vault_subscription_id\":20259,\"user_id\":20821628,\"recurring_period_in_months\":1,\"created_at\":\"2016-05-11T20:13:28.000Z\",\"updated_at\":\"2021-09-13T00:05:56.000Z\",\"pricing\":{\"subscription\":{\"1\":{\"EUR\":9900,\"USD\":11900},\"12\":{\"EUR\":118800,\"USD\":142800}},\"credit\":{\"EUR\":50,\"USD\":60}},\"recurring_credits\":{\"1\":200,\"12\":2400},\"bundle_id\":null}},{\"id\":37050315,\"parent_id\":20821628,\"measurement_system\":\"METRIC\",\"email\":\"woningmedia@mediatask.pl\",\"created_at\":\"2016-07-07T12:14:32.000Z\",\"updated_at\":\"2021-10-05T18:36:22.000Z\",\"language\":\"gb\",\"creator_id\":null,\"currency\":null,\"external_identifier\":null,\"membership_name\":\"subuser\",\"profile\":{\"id\":988530,\"user_id\":37050315,\"username\":\"woningmedia@mediatask.pl\",\"avatar\":{\"url\":null},\"firstname\":\"\",\"lastname\":\"\",\"gender\":\"other\",\"zipcode\":\"\",\"city\":\"\",\"language\":\"en-GB\",\"measurements\":\"metric\",\"address\":\"\",\"address2\":null,\"building\":\"\",\"country_code\":\"IT\",\"phonenumber\":\"\",\"phone_country\":\"\",\"birthdate\":\"\",\"website\":null,\"currency\":\"EUR\",\"newsletter\":true},\"company\":{\"id\":40795,\"user_id\":20821628,\"name\":\"Mediatask sp. z o.o. sp. k.\",\"logo\":{\"url\":null},\"vat_number\":\"PL1132901255\",\"currency\":\"EUR\",\"address\":\"plac gen. Józefa Hallera nr 5\",\"address2\":null,\"building\":\" lok. 14a\",\"city\":\"Warszawa\",\"zipcode\":\"03-464\",\"country_code\":\"PL\",\"phonenumber\":\"\",\"phone_country\":null,\"faxnumber\":null,\"company_size\":\"0\",\"billing_email\":\"biuro@mediatask.pl\",\"created_at\":\"2013-08-26T08:40:28.000Z\",\"updated_at\":\"2021-02-02T11:27:39.000Z\",\"verified_vat_at\":\"2019-02-01\"},\"credits\":-2020,\"avatar\":null,\"features\":[],\"membership\":{\"id\":22194,\"name\":\"partner\",\"state\":\"active\",\"end_at\":\"2021-10-13T00:05:56.000Z\",\"project_level_id\":2,\"max_subusers\":0,\"membership_template_id\":12,\"vault_subscription_id\":20259,\"user_id\":20821628,\"recurring_period_in_months\":1,\"created_at\":\"2016-05-11T20:13:28.000Z\",\"updated_at\":\"2021-09-13T00:05:56.000Z\",\"pricing\":{\"subscription\":{\"1\":{\"EUR\":9900,\"USD\":11900},\"12\":{\"EUR\":118800,\"USD\":142800}},\"credit\":{\"EUR\":50,\"USD\":60}},\"recurring_credits\":{\"1\":200,\"12\":2400},\"bundle_id\":null}},{\"id\":27673148,\"parent_id\":20821628,\"measurement_system\":\"\",\"email\":\"floorplanner@mediatask.pl\",\"created_at\":\"2014-06-24T10:53:41.000Z\",\"updated_at\":\"2021-10-05T13:35:25.000Z\",\"language\":\"\",\"creator_id\":null,\"currency\":null,\"external_identifier\":null,\"membership_name\":\"subuser\",\"profile\":{\"id\":989085,\"user_id\":27673148,\"username\":null,\"avatar\":{\"url\":null},\"firstname\":null,\"lastname\":null,\"gender\":null,\"zipcode\":null,\"city\":null,\"language\":\"en-US\",\"measurements\":null,\"address\":null,\"address2\":null,\"building\":null,\"country_code\":\"US\",\"phonenumber\":null,\"phone_country\":null,\"birthdate\":null,\"website\":null,\"currency\":\"USD\",\"newsletter\":null},\"company\":{\"id\":40795,\"user_id\":20821628,\"name\":\"Mediatask sp. z o.o. sp. k.\",\"logo\":{\"url\":null},\"vat_number\":\"PL1132901255\",\"currency\":\"EUR\",\"address\":\"plac gen. Józefa Hallera nr 5\",\"address2\":null,\"building\":\" lok. 14a\",\"city\":\"Warszawa\",\"zipcode\":\"03-464\",\"country_code\":\"PL\",\"phonenumber\":\"\",\"phone_country\":null,\"faxnumber\":null,\"company_size\":\"0\",\"billing_email\":\"biuro@mediatask.pl\",\"created_at\":\"2013-08-26T08:40:28.000Z\",\"updated_at\":\"2021-02-02T11:27:39.000Z\",\"verified_vat_at\":\"2019-02-01\"},\"credits\":-2020,\"avatar\":null,\"features\":[],\"membership\":{\"id\":22194,\"name\":\"partner\",\"state\":\"active\",\"end_at\":\"2021-10-13T00:05:56.000Z\",\"project_level_id\":2,\"max_subusers\":0,\"membership_template_id\":12,\"vault_subscription_id\":20259,\"user_id\":20821628,\"recurring_period_in_months\":1,\"created_at\":\"2016-05-11T20:13:28.000Z\",\"updated_at\":\"2021-09-13T00:05:56.000Z\",\"pricing\":{\"subscription\":{\"1\":{\"EUR\":9900,\"USD\":11900},\"12\":{\"EUR\":118800,\"USD\":142800}},\"credit\":{\"EUR\":50,\"USD\":60}},\"recurring_credits\":{\"1\":200,\"12\":2400},\"bundle_id\":null}},{\"id\":27407394,\"parent_id\":20821628,\"measurement_system\":\"METRIC\",\"email\":\"debeeldenmakers@mediatask.pl\",\"created_at\":\"2014-05-15T14:53:31.000Z\",\"updated_at\":\"2021-10-05T16:10:31.000Z\",\"language\":\"pl\",\"creator_id\":null,\"currency\":null,\"external_identifier\":null,\"membership_name\":\"subuser\",\"profile\":{\"id\":988041,\"user_id\":27407394,\"username\":\"debeeldenmakers@mediatask.pl\",\"avatar\":{\"url\":null},\"firstname\":\"\",\"lastname\":\"\",\"gender\":\"other\",\"zipcode\":\"\",\"city\":\"\",\"language\":\"en-US\",\"measurements\":\"metric\",\"address\":\"\",\"address2\":null,\"building\":\"\",\"country_code\":\"PL\",\"phonenumber\":\"\",\"phone_country\":\"\",\"birthdate\":\"\",\"website\":null,\"currency\":\"EUR\",\"newsletter\":true},\"company\":{\"id\":40795,\"user_id\":20821628,\"name\":\"Mediatask sp. z o.o. sp. k.\",\"logo\":{\"url\":null},\"vat_number\":\"PL1132901255\",\"currency\":\"EUR\",\"address\":\"plac gen. Józefa Hallera nr 5\",\"address2\":null,\"building\":\" lok. 14a\",\"city\":\"Warszawa\",\"zipcode\":\"03-464\",\"country_code\":\"PL\",\"phonenumber\":\"\",\"phone_country\":null,\"faxnumber\":null,\"company_size\":\"0\",\"billing_email\":\"biuro@mediatask.pl\",\"created_at\":\"2013-08-26T08:40:28.000Z\",\"updated_at\":\"2021-02-02T11:27:39.000Z\",\"verified_vat_at\":\"2019-02-01\"},\"credits\":-2020,\"avatar\":null,\"features\":[],\"membership\":{\"id\":22194,\"name\":\"partner\",\"state\":\"active\",\"end_at\":\"2021-10-13T00:05:56.000Z\",\"project_level_id\":2,\"max_subusers\":0,\"membership_template_id\":12,\"vault_subscription_id\":20259,\"user_id\":20821628,\"recurring_period_in_months\":1,\"created_at\":\"2016-05-11T20:13:28.000Z\",\"updated_at\":\"2021-09-13T00:05:56.000Z\",\"pricing\":{\"subscription\":{\"1\":{\"EUR\":9900,\"USD\":11900},\"12\":{\"EUR\":118800,\"USD\":142800}},\"credit\":{\"EUR\":50,\"USD\":60}},\"recurring_credits\":{\"1\":200,\"12\":2400},\"bundle_id\":null}}]\n"
          ]
        }
      ]
    }
  ]
}